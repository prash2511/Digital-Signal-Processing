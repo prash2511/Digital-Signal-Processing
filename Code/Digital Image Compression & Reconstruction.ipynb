{
 "cells": [
  {
   "cell_type": "code",
   "execution_count": null,
   "id": "everyday-antarctica",
   "metadata": {},
   "outputs": [],
   "source": [
    "#Reading the Image\n",
    "\n",
    "import cv2\n",
    "import numpy as np\n",
    "from matplotlib import pyplot as plt\n",
    "\n",
    "B = 8\n",
    "fn = 'D:\\Academics\\TY BTech\\Sem 6\\DSP\\Project\\Images\\emma.png'\n",
    "img1 = cv2.imread(fn, cv2.IMREAD_GRAYSCALE)\n",
    "print(img1)\n",
    "\n",
    "h, w = np.array(img1.shape[:2])//B * B\n",
    "print(h)\n",
    "print(w)\n",
    "img1 = img1[:h, :w]\n"
   ]
  },
  {
   "cell_type": "code",
   "execution_count": null,
   "id": "desperate-ethernet",
   "metadata": {},
   "outputs": [],
   "source": [
    "#Printing original Image\n",
    "\n",
    "plt.imshow(img1, cmap = \"gray\")\n",
    "point = [(10, 10), (18, 18)]\n",
    "block = np.floor(np.array(point)/B)\n",
    "print(block)\n",
    "col = block[0, 0]\n",
    "row = block[0, 1]\n",
    "plt.plot([B * col, B * col + B, B * col + B, B * col, B * col], [B * row, B * row, B * row + B, B * row + B, B * row])\n",
    "plt.axis([0, w, h, 0])\n",
    "plt.title('Original Image')"
   ]
  },
  {
   "cell_type": "code",
   "execution_count": null,
   "id": "unknown-seattle",
   "metadata": {},
   "outputs": [],
   "source": [
    "#Image compression using DCT\n",
    "\n",
    "blocksV = h // B\n",
    "blocksH = w // B\n",
    "vis = np.zeros((h, w), np.float32)\n",
    "Trans = np.zeros((h, w), np.float32)\n",
    "vis[:h, :w] = img1\n",
    "\n",
    "for row in range(blocksV):\n",
    "    for col in range(blocksH):\n",
    "        currentblock = cv2.dct(vis[row * B : (row + 1) * B, col * B : (col + 1) * B])\n",
    "        Trans[row * B : (row + 1) * B, col * B : (col + 1) * B] = currentblock\n",
    "        \n",
    "cv2.imwrite('Lighthouse_Compressed.jpg', Trans)"
   ]
  },
  {
   "cell_type": "code",
   "execution_count": null,
   "id": "sonic-asset",
   "metadata": {},
   "outputs": [],
   "source": [
    "#Image Reconstruction using IDCT\n",
    "\n",
    "back = np.zeros((h, w), np.float32)\n",
    "\n",
    "for row in range(blocksV):\n",
    "    for col in range(blocksH):\n",
    "        currentblock = cv2.idct(Trans[row * B : (row + 1) * B, col * B : (col + 1) * B])\n",
    "        back[row * B : (row + 1) * B, col * B : (col + 1) * B] = currentblock\n",
    "        \n",
    "cv2.imwrite('Lighthouse_Reconstructed.jpg', back)\n"
   ]
  },
  {
   "cell_type": "code",
   "execution_count": null,
   "id": "disabled-shadow",
   "metadata": {},
   "outputs": [],
   "source": []
  }
 ],
 "metadata": {
  "kernelspec": {
   "display_name": "Python 3",
   "language": "python",
   "name": "python3"
  },
  "language_info": {
   "codemirror_mode": {
    "name": "ipython",
    "version": 3
   },
   "file_extension": ".py",
   "mimetype": "text/x-python",
   "name": "python",
   "nbconvert_exporter": "python",
   "pygments_lexer": "ipython3",
   "version": "3.8.5"
  }
 },
 "nbformat": 4,
 "nbformat_minor": 5
}
